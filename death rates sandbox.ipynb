{
 "cells": [
  {
   "cell_type": "markdown",
   "metadata": {},
   "source": [
    "# Death rates sandbox\n",
    "\n",
    "Prompted by some articles in press claiming a new blood test can predict whether you will die in the next 10 years with an accuracy of 82%, I played a bit with death rate data from SSB to see how hard it is to predict\n",
    "when someone will die, based ONLY on their age.  This provides a baseline prediction.\n",
    "\n",
    "If you are young, then it is highly _unlikely_ that you will die in the next 10 years.  If you are very old, it is highly _likely_ that you will die in the next 10 years.  \n",
    "\n",
    "Approach is to generate a population of people, and determine whether or not each member of this population dies in the next 10 years based on SSB's life tables.  Then make 2 simple models:\n",
    "1. assume the person won't die (baseline)   \n",
    "1. assume that everyone dies when they reach Norwegian life expectancy of 82.5 years: anyone younger than 77.5 expects to live for 10 more years, anyone older expects to die.\n",
    "\n",
    "What a cheerful topic!\n",
    "\n",
    "August 2019\n",
    "\n",
    "\n",
    "Related articles:\n",
    "Sources\n",
    "https://www.nature.com/articles/s41467-019-11311-9\n",
    "https://www.nature.com/articles/s41467-019-11311-9/tables/1     Details of test set\n",
    "\n",
    "https://www.thesun.co.uk/news/9766554/blood-test-predict-when-you-will-die/\n",
    "\n",
    "\n",
    "https://onezero.medium.com/a-new-test-predicts-when-youll-die-give-or-take-a-few-years-2d08147c8ea6 "
   ]
  },
  {
   "cell_type": "code",
   "execution_count": 1,
   "metadata": {},
   "outputs": [],
   "source": [
    "%matplotlib inline\n",
    "\n",
    "import numpy as np\n",
    "import pandas as pd\n",
    "\n",
    "from pathlib import Path\n",
    "\n",
    "#DATA_FOLDER = Path(TODO)\n",
    "\n",
    "import sklearn\n",
    "from sklearn import metrics\n"
   ]
  },
  {
   "cell_type": "code",
   "execution_count": 2,
   "metadata": {},
   "outputs": [],
   "source": [
    "# This cell copied from https://scikit-learn.org/stable/auto_examples/model_selection/plot_confusion_matrix.html\n",
    "\n",
    "import numpy as np\n",
    "import matplotlib.pyplot as plt\n",
    "\n",
    "from sklearn.metrics import confusion_matrix\n",
    "from sklearn.utils.multiclass import unique_labels\n",
    "\n",
    "\n",
    "\n",
    "def plot_confusion_matrix(y_true, y_pred, classes,\n",
    "                          normalize=False,\n",
    "                          title=None,\n",
    "                          cmap=plt.cm.Blues):\n",
    "    \"\"\"\n",
    "    This function prints and plots the confusion matrix.\n",
    "    Normalization can be applied by setting `normalize=True`.\n",
    "    \"\"\"\n",
    "    if not title:\n",
    "        if normalize:\n",
    "            title = 'Normalized confusion matrix'\n",
    "        else:\n",
    "            title = 'Confusion matrix, without normalization'\n",
    "\n",
    "    # Compute confusion matrix\n",
    "    cm = confusion_matrix(y_true, y_pred)\n",
    "    # Only use the labels that appear in the data\n",
    "    classes = classes[unique_labels(y_true, y_pred)]\n",
    "    if normalize:\n",
    "        cm = cm.astype('float') / cm.sum(axis=1)[:, np.newaxis]\n",
    "        print(\"Normalized confusion matrix\")\n",
    "    else:\n",
    "        print('Confusion matrix, without normalization')\n",
    "\n",
    "    print(cm)\n",
    "\n",
    "    fig, ax = plt.subplots()\n",
    "    im = ax.imshow(cm, interpolation='nearest', cmap=cmap)\n",
    "    ax.figure.colorbar(im, ax=ax)\n",
    "    # We want to show all ticks...\n",
    "    ax.set(xticks=np.arange(cm.shape[1]),\n",
    "           yticks=np.arange(cm.shape[0]),\n",
    "           # ... and label them with the respective list entries\n",
    "           xticklabels=classes, yticklabels=classes,\n",
    "           title=title,\n",
    "           ylabel='True label',\n",
    "           xlabel='Predicted label')\n",
    "\n",
    "    # Rotate the tick labels and set their alignment.\n",
    "    plt.setp(ax.get_xticklabels(), rotation=45, ha=\"right\",\n",
    "             rotation_mode=\"anchor\")\n",
    "\n",
    "    # Loop over data dimensions and create text annotations.\n",
    "    fmt = '.2f' if normalize else 'd'\n",
    "    thresh = cm.max() / 2.\n",
    "    for i in range(cm.shape[0]):\n",
    "        for j in range(cm.shape[1]):\n",
    "            ax.text(j, i, format(cm[i, j], fmt),\n",
    "                    ha=\"center\", va=\"center\",\n",
    "                    color=\"white\" if cm[i, j] > thresh else \"black\")\n",
    "    fig.tight_layout()\n",
    "    return ax\n",
    "\n",
    "\n",
    "np.set_printoptions(precision=2)\n",
    "\n",
    "# Plot non-normalized confusion matrix\n",
    "#plot_confusion_matrix(y_test, y_pred, classes=class_names,\n",
    "#                      title='Confusion matrix, without normalization')\n",
    "\n",
    "# Plot normalized confusion matrix\n",
    "#plot_confusion_matrix(y_test, y_pred, classes=class_names, normalize=True,\n",
    "#                      title='Normalized confusion matrix')\n",
    "\n",
    "#plt.show()"
   ]
  },
  {
   "cell_type": "code",
   "execution_count": 3,
   "metadata": {},
   "outputs": [],
   "source": [
    "\n",
    "\n",
    "class LifeTable():\n",
    "    # class holding cleaned up data from Norwegian SSB\n",
    "    # source: https://www.ssb.no/en/dode  \n",
    "    def __init__(self):\n",
    "        # p_death is probability per thousand\n",
    "        READ_FROM_LOCAL_FILE = False\n",
    "        \n",
    "        if READ_FROM_LOCAL_FILE:\n",
    "            src = DATA_FOLDER / \"ssb-life-tables.xlsx\"\n",
    "        else:\n",
    "            src = \"https://www.ssb.no/eksport/excel?key=379777\"\n",
    "        _df = pd.read_excel(src, usecols=[0,10], names=['age', 'p_death_per_thou'], header=3, skipfooter=1)\n",
    "        \n",
    "        new = _df[\"age\"].str.split(\" \", n = 1, expand = True) \n",
    "        _df['age'] = pd.to_numeric(new[0])\n",
    "        \n",
    "        self.data = _df\n",
    "        self.data['p_death_next_10y_per_thou']=_df['p_death_per_thou'].rolling(10, min_periods=1).sum()\n",
    "        self.data = self.data.drop(['age'], axis=1)    \n",
    "        self.data.index.name = 'age'\n",
    "    "
   ]
  },
  {
   "cell_type": "code",
   "execution_count": 4,
   "metadata": {},
   "outputs": [
    {
     "ename": "NameError",
     "evalue": "name 'life' is not defined",
     "output_type": "error",
     "traceback": [
      "\u001b[1;31m---------------------------------------------------------------------------\u001b[0m",
      "\u001b[1;31mNameError\u001b[0m                                 Traceback (most recent call last)",
      "\u001b[1;32m<ipython-input-4-8254507679bf>\u001b[0m in \u001b[0;36m<module>\u001b[1;34m\u001b[0m\n\u001b[1;32m----> 1\u001b[1;33m \u001b[0mmax\u001b[0m\u001b[1;33m(\u001b[0m\u001b[0mlife\u001b[0m\u001b[1;33m.\u001b[0m\u001b[0mdata\u001b[0m\u001b[1;33m.\u001b[0m\u001b[0mindex\u001b[0m\u001b[1;33m)\u001b[0m\u001b[1;33m\u001b[0m\u001b[1;33m\u001b[0m\u001b[0m\n\u001b[0m",
      "\u001b[1;31mNameError\u001b[0m: name 'life' is not defined"
     ]
    }
   ],
   "source": [
    "max(life.data.index)"
   ]
  },
  {
   "cell_type": "code",
   "execution_count": null,
   "metadata": {},
   "outputs": [],
   "source": [
    "# make a population, and use life tables to determine if they will die or not the next 10 years.\n",
    "# Could be made more fancy by giving population a similar age profile to actual population (see example of data for that lower down)\n",
    "N = 10000\n",
    "# The headline press articles say the subjects were between 18 and 109 years old\n",
    "# https://www.nature.com/articles/s41467-019-11311-9/tables/1  gives the details of the subjects\n",
    "AGE_MIN = 18\n",
    "AGE_MAX = 109   \n",
    "\n",
    "LIFE_EXPECTANCY = 82.5   # Norway, wikipedia\n",
    "\n",
    "life = LifeTable()\n",
    "\n",
    "\n",
    "ages = np.random.randint(low=AGE_MIN, high=AGE_MAX, size=N)\n",
    "\n",
    "truth = []                   # whether person will die next 10 years, based on mortality stats\n",
    "pred_baseline = []           # assume the person will NOT die in the next 10 years\n",
    "pred_simple = []             # assume everyone dies at life expectancy, so if person is 5 years younger than life expectacny\n",
    "                             # assume they will live\n",
    "\n",
    "for person_age in list(ages):\n",
    "    _age = person_age\n",
    "    \n",
    "    if _age > max(life.data.index):\n",
    "        # if person is older than there is mortality data for, assume they are oldest\n",
    "        _age = max(life.data.index)\n",
    "    p_die_next_10y = life.data.iloc[_age]['p_death_next_10y_per_thou']/1000\n",
    "    _truth = (np.random.uniform(low=0.0, high=1.0)<p_die_next_10y)\n",
    "    _pred_baseline = False\n",
    "    if person_age < LIFE_EXPECTANCY-5:\n",
    "        _pred_simple = False\n",
    "    else:\n",
    "        _pred_simple = True\n",
    "    truth.append(_truth)\n",
    "    pred_baseline.append(_pred_baseline)\n",
    "    pred_simple.append(_pred_simple)\n",
    "    #print(f\"Sample age:{person_age} p_die{AGE_MAX}_10(*1000):{p_die_next_10y*1000:.2f} die?:{truth}\")\n",
    "    \n",
    "\n",
    "print(f\"accuracy of 'will you die in next 10 years?'  N={N} ages from {AGE_MIN}-{AGE_MAX}\")\n",
    "print(f\"baseline:{sklearn.metrics.accuracy_score(truth, pred_baseline, normalize=True, sample_weight=None)}\")\n",
    "print(f\"simple rule:{sklearn.metrics.accuracy_score(truth, pred_simple, normalize=True, sample_weight=None)}\")\n",
    "#plot_confusion_matrix(np.array(truth), np.array(pred), normalize=False, classes=np.array([\"die\", \"live\"]), title='Confusion matrix (normalized) Baseline model')"
   ]
  },
  {
   "cell_type": "code",
   "execution_count": null,
   "metadata": {},
   "outputs": [],
   "source": []
  },
  {
   "cell_type": "markdown",
   "metadata": {},
   "source": [
    "# Older stuff"
   ]
  },
  {
   "cell_type": "code",
   "execution_count": null,
   "metadata": {},
   "outputs": [],
   "source": [
    "np.random.uniform(low=0.0, high=1)"
   ]
  },
  {
   "cell_type": "code",
   "execution_count": null,
   "metadata": {},
   "outputs": [],
   "source": [
    "print(f'{DATA_FOLDER / \"age-groups.csv\"}')"
   ]
  },
  {
   "cell_type": "code",
   "execution_count": null,
   "metadata": {},
   "outputs": [],
   "source": [
    "# https://www.ethnicity-facts-figures.service.gov.uk/uk-population-by-ethnicity/demographics/age-groups/latest#download-the-data\n",
    "\n",
    "df = pd.read_csv(DATA_FOLDER / \"age-groups.csv\")"
   ]
  },
  {
   "cell_type": "code",
   "execution_count": null,
   "metadata": {},
   "outputs": [],
   "source": [
    "df.head()"
   ]
  },
  {
   "cell_type": "code",
   "execution_count": null,
   "metadata": {},
   "outputs": [],
   "source": [
    "# http://www.bandolier.org.uk/booth/Risk/dyingage.html\n",
    "\n",
    "# data values are the X where the chance of dying in the next year are 1 in X \n",
    "\n",
    "df2 = pd.read_csv(DATA_FOLDER / \"bandolier-death-rates-by-age.csv\")\n",
    "df2 = df2.drop([0,1])\n",
    "new = df2[\"age\"].str.split(\"-\", n = 1, expand = True) \n",
    "df2['from']=pd.to_numeric(new[0])\n",
    "df2['to']=pd.to_numeric(new[1])\n"
   ]
  },
  {
   "cell_type": "code",
   "execution_count": null,
   "metadata": {},
   "outputs": [],
   "source": [
    "df2.head()"
   ]
  },
  {
   "cell_type": "markdown",
   "metadata": {},
   "source": [
    "# Task\n",
    "Prompted by this article (which was also reported on CNN): \n",
    "\n",
    "https://onezero.medium.com/a-new-test-predicts-when-youll-die-give-or-take-a-few-years-2d08147c8ea6\n",
    "https://www.thesun.co.uk/news/9766554/blood-test-predict-when-you-will-die/\n",
    "\n",
    "What is the baseline model for predicting whether or not a person will die in the next 10 years?\n",
    "\n",
    "Related:\n",
    "https://onezero.medium.com/a-new-test-predicts-when-youll-die-give-or-take-a-few-years-2d08147c8ea6\n",
    "\n",
    "\n",
    "First look, just take someone's age now and use it to predict how many years they have left to live\n",
    "\n"
   ]
  },
  {
   "cell_type": "code",
   "execution_count": null,
   "metadata": {},
   "outputs": [],
   "source": [
    "\n",
    "#df = pd.DataFrame(df.row.str.split(' ',1).tolist(),\n",
    "#                                   columns = ['flips','row'])"
   ]
  },
  {
   "cell_type": "code",
   "execution_count": null,
   "metadata": {},
   "outputs": [],
   "source": [
    "df2"
   ]
  },
  {
   "cell_type": "code",
   "execution_count": null,
   "metadata": {},
   "outputs": [],
   "source": [
    "def get_prob(X, span):\n",
    "    \"\"\"\n",
    "    convert 1 in X death rate (for a particular span) to a probabilit per year\n",
    "    e.g. 1 in 100 for a 5 year period corresponds to 0.01/5\n",
    "    \"\"\"\n",
    "    return 1.0/X/span"
   ]
  },
  {
   "cell_type": "code",
   "execution_count": null,
   "metadata": {},
   "outputs": [],
   "source": [
    "df3 = pd.DataFrame()\n",
    "for index, row in df2.iterrows():\n",
    "    span = row['to']+1-row['from']\n",
    "    for age_now in range(row['from'], row['to']+1):\n",
    "        \n",
    "        df4 = pd.DataFrame([[age_now, get_prob(row['Men'], span), get_prob(row['Women'], span)]],\n",
    "                           columns = ['age', 'Men', 'Women'])\n",
    "        df3 = df3.append(df4)\n"
   ]
  },
  {
   "cell_type": "code",
   "execution_count": null,
   "metadata": {},
   "outputs": [],
   "source": [
    "df3.plot.scatter(x='age', y='Women')"
   ]
  },
  {
   "cell_type": "code",
   "execution_count": null,
   "metadata": {},
   "outputs": [],
   "source": [
    "life = LifeTable()"
   ]
  },
  {
   "cell_type": "code",
   "execution_count": null,
   "metadata": {},
   "outputs": [],
   "source": [
    "life.data"
   ]
  },
  {
   "cell_type": "code",
   "execution_count": null,
   "metadata": {},
   "outputs": [],
   "source": []
  }
 ],
 "metadata": {
  "kernelspec": {
   "display_name": "Python 3",
   "language": "python",
   "name": "python3"
  },
  "language_info": {
   "codemirror_mode": {
    "name": "ipython",
    "version": 3
   },
   "file_extension": ".py",
   "mimetype": "text/x-python",
   "name": "python",
   "nbconvert_exporter": "python",
   "pygments_lexer": "ipython3",
   "version": "3.7.3"
  }
 },
 "nbformat": 4,
 "nbformat_minor": 2
}
